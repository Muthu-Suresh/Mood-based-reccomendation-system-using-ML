import pandas as pd
import numpy as np
import tensorflow as tf
from tensorflow.keras.models import Sequential
from tensorflow.keras.layers import Dense, Dropout
from tensorflow.keras.optimizers import Adam
from sklearn.model_selection import train_test_split
from sklearn.preprocessing import LabelEncoder
from sklearn.feature_extraction.text import TfidfVectorizer
from nltk.corpus import stopwords
from nltk.tokenize import word_tokenize
import nltk
nltk.download('punkt')
nltk.download('stopwords')
data = pd.read_csv(r"C:\Users\muthu\Downloads\tamil_song_travel_dataset_refined.csv")
df = pd.DataFrame(data)
df
df['Processed_Text'] = df['Mood'] + " " + df['Tamil Song'] + " " + df['Tamil Movie'] + " " + df['Travel Location'] + " " + df['Food'] + " " + df['Book']
def preprocess_text(text):
    stop_words = set(stopwords.words('english'))
    tokens = word_tokenize(str(text).lower())
    filtered_words = [word for word in tokens if word.isalpha() and word not in stop_words]
    return " ".join(filtered_words)
df['Processed_Mood'] = df['Mood'].apply(preprocess_text)
vectorizer = TfidfVectorizer()
X = vectorizer.fit_transform(df['Processed_Text']).toarray()

# Encode mood labels
label_encoder = LabelEncoder()
y = label_encoder.fit_transform(df['Mood'])

# Split data
X_train, X_test, y_train, y_test = train_test_split(X, y, test_size=0.2, random_state=42)
def build_model(input_dim, num_classes):
    model = Sequential([
        Dense(256, input_dim=input_dim, activation='relu'),
        Dropout(0.4),
        Dense(128, activation='relu'),
        Dropout(0.3),
        Dense(64, activation='relu'),
        Dense(num_classes, activation='softmax')  # Multi-class classification
    ])
    model.compile(optimizer=Adam(), loss='sparse_categorical_crossentropy', metrics=['accuracy'])
    return model

num_classes = len(df['Mood'].unique())

# Build and train the model
model = build_model(X_train.shape[1], num_classes)
model.fit(X_train, y_train, epochs=50, batch_size=8, validation_data=(X_test, y_test), verbose=1)
loss, accuracy = model.evaluate(X_test, y_test)
print(f"✅ Model Accuracy: {accuracy * 100:.2f}%")
def recommend_based_on_mood(user_input, user_choice):
    # Preprocess user input
    user_mood = preprocess_text(user_input)
    
    # Vectorize the user mood
    user_mood_vectorized = vectorizer.transform([user_mood]).toarray()
    
    # Predict the mood using the neural network
    predicted_mood_encoded = model.predict(user_mood_vectorized)
    predicted_mood_index = np.argmax(predicted_mood_encoded)  # Get the highest probability class
    
    # Decode the predicted mood
    predicted_mood = label_encoder.inverse_transform([predicted_mood_index])[0]
    
    # Filter recommendations based on the predicted mood
    recommendations = df[df['Mood'] == predicted_mood]
    if not recommendations.empty:
        recommendation = recommendations.iloc[0][user_choice]
        return recommendation
    return "No recommendations found."
user_input = input("Describe your mood or feeling: ")
print("\nWhat would you like a recommendation for?")
print("Options: Tamil Song, Tamil Movie, Travel Location, Food, Book")
user_choice = input("Enter your choice: ").strip().title()

if user_choice not in df.columns:
    print("\n❌ Invalid choice. Please select a valid option.")
else:
    recommendation = recommend_based_on_mood(user_input, user_choice)

    if user_choice == "Travel Location":
        # Get famous places and hotels for the recommended travel location
        famous_places = df.loc[df["Travel Location"] == recommendation, "Famous Places"].values
        famous_hotel = df.loc[df["Travel Location"] == recommendation, "Famous Hotels with Price"].values
        
        places_text = famous_places[0] if len(famous_places) > 0 else "No data available"
        hotel_text = famous_hotel[0] if len(famous_hotel) > 0 else "No data available"

        print(f"\n🌍 Recommended Travel Location: {recommendation}")
        print(f"📍 Famous Places: {places_text}")
        print(f"🏨 Famous Hotel: {hotel_text}")
    else:
        print(f"\n🎵 Recommendation for {user_choice} based on your mood: {recommendation}")

